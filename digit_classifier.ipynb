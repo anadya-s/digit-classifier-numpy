{
  "nbformat": 4,
  "nbformat_minor": 0,
  "metadata": {
    "colab": {
      "provenance": [],
      "authorship_tag": "ABX9TyPHDFqt5KaCmg17Y+uidtxb",
      "include_colab_link": true
    },
    "kernelspec": {
      "name": "python3",
      "display_name": "Python 3"
    },
    "language_info": {
      "name": "python"
    }
  },
  "cells": [
    {
      "cell_type": "markdown",
      "metadata": {
        "id": "view-in-github",
        "colab_type": "text"
      },
      "source": [
        "<a href=\"https://colab.research.google.com/github/anadya-s/digit-classifier-numpy/blob/main/digit_classifier.ipynb\" target=\"_parent\"><img src=\"https://colab.research.google.com/assets/colab-badge.svg\" alt=\"Open In Colab\"/></a>"
      ]
    },
    {
      "cell_type": "code",
      "execution_count": 9,
      "metadata": {
        "id": "gWfauq1wRflf",
        "colab": {
          "base_uri": "https://localhost:8080/"
        },
        "outputId": "8f29bd36-7109-4bbe-b183-a91fe05b858a"
      },
      "outputs": [
        {
          "output_type": "stream",
          "name": "stdout",
          "text": [
            "Requirement already satisfied: numpy in /usr/local/lib/python3.11/dist-packages (2.0.2)\n",
            "Collecting np\n",
            "  Downloading np-1.0.2.tar.gz (7.4 kB)\n",
            "  Preparing metadata (setup.py) ... \u001b[?25l\u001b[?25hdone\n",
            "Requirement already satisfied: scikit-learn in /usr/local/lib/python3.11/dist-packages (1.6.1)\n",
            "Requirement already satisfied: scipy>=1.6.0 in /usr/local/lib/python3.11/dist-packages (from scikit-learn) (1.15.3)\n",
            "Requirement already satisfied: joblib>=1.2.0 in /usr/local/lib/python3.11/dist-packages (from scikit-learn) (1.5.1)\n",
            "Requirement already satisfied: threadpoolctl>=3.1.0 in /usr/local/lib/python3.11/dist-packages (from scikit-learn) (3.6.0)\n",
            "Building wheels for collected packages: np\n",
            "  Building wheel for np (setup.py) ... \u001b[?25l\u001b[?25hdone\n",
            "  Created wheel for np: filename=np-1.0.2-py3-none-any.whl size=13657 sha256=678137d7a4e98f2a67e2cbb9c200af36c463b27312d5f08c6434b3218b6b637e\n",
            "  Stored in directory: /root/.cache/pip/wheels/19/20/42/6ee214e617f78123903f603524d662ac6fa14154c3027fd992\n",
            "Successfully built np\n",
            "Installing collected packages: np\n",
            "Successfully installed np-1.0.2\n"
          ]
        }
      ],
      "source": [
        "pip install numpy np scikit-learn"
      ]
    },
    {
      "cell_type": "code",
      "source": [
        "from sklearn.datasets import load_digits\n",
        "digits = load_digits()\n",
        "X = digits.data\n",
        "Y = digits.target.reshape(-1, 1)"
      ],
      "metadata": {
        "id": "fY8GXQ2vjefD"
      },
      "execution_count": 14,
      "outputs": []
    },
    {
      "cell_type": "code",
      "source": [
        "print(\"Data shape: \", X.shape)\n",
        "print(\"Labels shape: \", Y.shape)\n",
        "import matplotlib.pyplot as plt\n",
        "plt.gray()\n",
        "plt.matshow(digits.images[0])\n",
        "plt.title(f\"Label: {digits.target[0]}\")\n",
        "plt.show()"
      ],
      "metadata": {
        "colab": {
          "base_uri": "https://localhost:8080/",
          "height": 511
        },
        "id": "4ayp90wYkK23",
        "outputId": "1e1f7406-75a8-466d-9b6c-8ae5a5057a13"
      },
      "execution_count": 15,
      "outputs": [
        {
          "output_type": "stream",
          "name": "stdout",
          "text": [
            "Data shape:  (1797, 64)\n",
            "Labels shape:  (1797, 1)\n"
          ]
        },
        {
          "output_type": "display_data",
          "data": {
            "text/plain": [
              "<Figure size 640x480 with 0 Axes>"
            ]
          },
          "metadata": {}
        },
        {
          "output_type": "display_data",
          "data": {
            "text/plain": [
              "<Figure size 480x480 with 1 Axes>"
            ],
            "image/png": "[encoded data removed]"
          },
          "metadata": {}
        }
      ]
    },
    {
      "cell_type": "code",
      "source": [
        "# normalizing input\n",
        "X = digits.data/16.0"
      ],
      "metadata": {
        "id": "V_UPMovSlH-O"
      },
      "execution_count": 16,
      "outputs": []
    },
    {
      "cell_type": "code",
      "source": [
        "import numpy as np"
      ],
      "metadata": {
        "id": "YuXeFUxAmM7d"
      },
      "execution_count": 17,
      "outputs": []
    },
    {
      "cell_type": "code",
      "source": [
        "# one-hot output labels\n",
        "def one_hot(y, num_classes=10):\n",
        "    m = y.shape[0]\n",
        "    y_one_hot = np.zeros((m, num_classes))\n",
        "    y_one_hot[np.arange(m), y] = 1\n",
        "    return y_one_hot\n",
        "\n",
        "Y = one_hot(digits.target)\n"
      ],
      "metadata": {
        "id": "D7jwDfSxlqFT"
      },
      "execution_count": 18,
      "outputs": []
    },
    {
      "cell_type": "code",
      "source": [
        "from sklearn.model_selection import train_test_split\n",
        "X_train, X_test, Y_train, Y_test = train_test_split(X, Y, test_size=0.2, random_state=42)"
      ],
      "metadata": {
        "id": "Rpr9sBBUmVz9"
      },
      "execution_count": 19,
      "outputs": []
    },
    {
      "cell_type": "code",
      "source": [
        "print(\"X_train:\", X_train.shape)\n",
        "print(\"Y_train:\", Y_train.shape)\n",
        "print(\"X_test:\", X_test.shape)\n",
        "print(\"Y_test:\", Y_test.shape)"
      ],
      "metadata": {
        "colab": {
          "base_uri": "https://localhost:8080/"
        },
        "id": "hnCm4mDWnNWt",
        "outputId": "3c16d1ae-eab6-42a0-de66-e919fe273474"
      },
      "execution_count": 20,
      "outputs": [
        {
          "output_type": "stream",
          "name": "stdout",
          "text": [
            "X_train: (1437, 64)\n",
            "Y_train: (1437, 10)\n",
            "X_test: (360, 64)\n",
            "Y_test: (360, 10)\n"
          ]
        }
      ]
    },
    {
      "cell_type": "code",
      "source": [
        "def initialize_parameters(layer_dims):\n",
        "  np.random.seed(1)\n",
        "  parameters = {}\n",
        "  L = len(layer_dims)\n",
        "  for l in range (1, L):\n",
        "    parameters[\"W\"+str(l)]=np.random.randn(layer_dims[l], layer_dims[l-1])*0.01\n",
        "    parameters[\"b\"+str(l)]=np.zeros((layer_dims[l], 1))\n",
        "  return parameters\n",
        ""
      ],
      "metadata": {
        "id": "x-wG2z7lnesW"
      },
      "execution_count": 25,
      "outputs": []
    },
    {
      "cell_type": "code",
      "source": [
        "layer_dims = [64, 128, 64, 10]\n",
        "parameters = initialize_parameters(layer_dims)"
      ],
      "metadata": {
        "id": "ZCq_mAz4pRHl"
      },
      "execution_count": 26,
      "outputs": []
    },
    {
      "cell_type": "code",
      "source": [
        "def Relu(Z):\n",
        "  return np.maximum(0,Z)\n",
        "def Softmax(Z):\n",
        "  expZ = np.exp(Z - np.max(Z, axis=0, keepdims=True))\n",
        "  return expZ / np.sum(expZ, axis=0, keepdims=True)"
      ],
      "metadata": {
        "id": "vOXwWfs2prRG"
      },
      "execution_count": 27,
      "outputs": []
    },
    {
      "cell_type": "code",
      "source": [
        "def forward_propagation(X, parameters):\n",
        "  cache={}\n",
        "  Z1 = np.dot(parameters[\"W1\"], X) + parameters[\"b1\"]\n",
        "  A1 = Relu(Z1)\n",
        "  Z2 = np.dot(parameters[\"W2\"], A1) + parameters[\"b2\"]\n",
        "  A2 = Relu(Z2)\n",
        "  Z3 = np.dot(parameters[\"W3\"], A2) + parameters[\"b3\"]\n",
        "  A3 = Softmax(Z3)\n",
        "\n",
        "  cache[\"A0\"] = X\n",
        "  cache[\"Z1\"] = Z1\n",
        "  cache[\"A1\"] = A1\n",
        "  cache[\"Z2\"] = Z2\n",
        "  cache[\"A2\"] = A2\n",
        "  cache[\"Z3\"] = Z3\n",
        "  cache[\"A3\"] = A3\n",
        "\n",
        "  return A3, cache"
      ],
      "metadata": {
        "id": "gxpF1TVXqoyH"
      },
      "execution_count": 28,
      "outputs": []
    },
    {
      "cell_type": "code",
      "source": [
        "def compute_cost(A3, Y):\n",
        "  m = Y.shape[1]\n",
        "  cost = -np.sum(np.multiply(np.log(A3), Y) + np.multiply(1 - Y, np.log(1 - A3)))/m\n",
        "  cost = np.squeeze(cost)\n",
        "  return cost"
      ],
      "metadata": {
        "id": "6MdDigCSrkfd"
      },
      "execution_count": 29,
      "outputs": []
    },
    {
      "cell_type": "code",
      "source": [
        "def relu_derivative(Z):\n",
        "    return Z > 0"
      ],
      "metadata": {
        "id": "ULejlS8o1dB-"
      },
      "execution_count": 30,
      "outputs": []
    },
    {
      "cell_type": "code",
      "source": [
        "def backward_propagation(parameters, cache, X, Y):\n",
        "  m = Y.shape[1]\n",
        "  W1, W2, W3 = parameters[\"W1\"], parameters[\"W2\"], parameters[\"W3\"]\n",
        "  A1, A2, A3 = cache[\"A1\"], cache[\"A2\"], cache[\"A3\"]\n",
        "  Z1, Z2, Z3 = cache[\"Z1\"], cache[\"Z2\"], cache[\"Z3\"]\n",
        "  dZ3 = A3 - Y\n",
        "  dW3 = (1/m) * np.dot(dZ3, A2.T)\n",
        "  db3 = (1/m) * np.sum(dZ3, axis=1, keepdims=True)\n",
        "\n",
        "  dA2 = np.dot(W3.T, dZ3)\n",
        "  dZ2 = dA2 * relu_derivative(Z2)\n",
        "  dW2 = (1/m) * np.dot(dZ2, A1.T)\n",
        "  db2 = (1/m) * np.sum(dZ2, axis=1, keepdims=True)\n",
        "\n",
        "  dA1 = np.dot(W2.T, dZ2)\n",
        "  dZ1 = dA1 * relu_derivative(Z1)\n",
        "  dW1 = (1/m) * np.dot(dZ1, X.T)\n",
        "  db1 = (1/m) * np.sum(dZ1, axis=1, keepdims=True)\n",
        "\n",
        "  grads = {\n",
        "      \"dW1\": dW1, \"db1\": db1,\n",
        "      \"dW2\": dW2, \"db2\": db2,\n",
        "      \"dW3\": dW3, \"db3\": db3\n",
        "  }\n",
        "\n",
        "  return grads"
      ],
      "metadata": {
        "id": "nKaKK-y7sK-r"
      },
      "execution_count": 31,
      "outputs": []
    },
    {
      "cell_type": "code",
      "source": [
        "def update_parameters(parameters, grads, learning_rate):\n",
        "  parameters[\"W1\"] -= learning_rate * grads[\"dW1\"]\n",
        "  parameters[\"b1\"] -= learning_rate * grads[\"db1\"]\n",
        "  parameters[\"W2\"] -= learning_rate * grads[\"dW2\"]\n",
        "  parameters[\"b2\"] -= learning_rate * grads[\"db2\"]\n",
        "  parameters[\"W3\"] -= learning_rate * grads[\"dW3\"]\n",
        "  parameters[\"b3\"] -= learning_rate * grads[\"db3\"]\n",
        "  return parameters"
      ],
      "metadata": {
        "id": "PKnyRxtZ2ks3"
      },
      "execution_count": 32,
      "outputs": []
    },
    {
      "cell_type": "code",
      "source": [
        "def final_model(X, Y, layer_dims, learning_rate=0.1, num_iterations=1000, print_cost=False):\n",
        "  parameters = initialize_parameters(layer_dims)\n",
        "  for i in range(num_iterations):\n",
        "    A3, cache = forward_propagation(X, parameters)\n",
        "    cost = compute_cost(A3, Y)\n",
        "    grads = backward_propagation(parameters, cache, X, Y)\n",
        "    parameters = update_parameters(parameters, grads, learning_rate)\n",
        "    if print_cost and i % 100 == 0:\n",
        "      print(\"Cost after iteration\", i, \": \", np.squeeze(cost))\n",
        "\n",
        "  return parameters"
      ],
      "metadata": {
        "id": "gPN-Mwl94Bnh"
      },
      "execution_count": 36,
      "outputs": []
    },
    {
      "cell_type": "code",
      "source": [
        "parameters = final_model(X_train.T, Y_train.T, layer_dims=[64, 128, 64, 10], learning_rate=0.1, num_iterations=1000, print_cost=True)"
      ],
      "metadata": {
        "colab": {
          "base_uri": "https://localhost:8080/"
        },
        "id": "Ku0896GP4n_6",
        "outputId": "9ee8fd1e-38f7-4135-abf7-f37eb791ceb9"
      },
      "execution_count": 37,
      "outputs": [
        {
          "output_type": "stream",
          "name": "stdout",
          "text": [
            "Cost after iteration 0 :  3.250831411081749\n",
            "Cost after iteration 100 :  3.249871937241957\n",
            "Cost after iteration 200 :  3.249453697324685\n",
            "Cost after iteration 300 :  3.2488167061402753\n",
            "Cost after iteration 400 :  3.2472897448971776\n",
            "Cost after iteration 500 :  3.2417828786046554\n",
            "Cost after iteration 600 :  3.1948131655433616\n",
            "Cost after iteration 700 :  2.62227671278564\n",
            "Cost after iteration 800 :  1.5720794988057805\n",
            "Cost after iteration 900 :  0.9777381822694784\n"
          ]
        }
      ]
    },
    {
      "cell_type": "code",
      "source": [
        "def predict(X, parameters):\n",
        "  A3, cache = forward_propagation(X, parameters)\n",
        "  predictions = np.argmax(A3, axis=0)\n",
        "  return predictions"
      ],
      "metadata": {
        "id": "ng00ooFY44sj"
      },
      "execution_count": 38,
      "outputs": []
    },
    {
      "cell_type": "code",
      "source": [
        "pred_train = predict(X_train.T, parameters)\n",
        "pred_test = predict(X_test.T, parameters)\n",
        "\n",
        "print(\"Train accuracy:\", np.mean(pred_train == np.argmax(Y_train.T, axis=0)))\n",
        "print(\"Test accuracy:\", np.mean(pred_test == np.argmax(Y_test.T, axis=0)))"
      ],
      "metadata": {
        "colab": {
          "base_uri": "https://localhost:8080/"
        },
        "id": "DgmV3BLz5Bqq",
        "outputId": "9a92d6ac-4600-4812-cab6-ad7dadec4ee7"
      },
      "execution_count": 39,
      "outputs": [
        {
          "output_type": "stream",
          "name": "stdout",
          "text": [
            "Train accuracy: 0.8559498956158664\n",
            "Test accuracy: 0.8361111111111111\n"
          ]
        }
      ]
    },
    {
      "cell_type": "code",
      "source": [
        "import matplotlib.pyplot as plt\n",
        "\n",
        "pred_test = predict(X_test.T, parameters)\n",
        "true_test = np.argmax(Y_test.T, axis=0)\n",
        "\n",
        "for i in range(5):\n",
        "    plt.imshow(X_test[i].reshape(8, 8), cmap='gray')\n",
        "    plt.title(f\"True: {true_test[i]} | Pred: {pred_test[i]}\")\n",
        "    plt.axis('off')\n",
        "    plt.show()"
      ],
      "metadata": {
        "colab": {
          "base_uri": "https://localhost:8080/",
          "height": 1000
        },
        "id": "iW3gKGH_59wR",
        "outputId": "0daa4d52-41ba-4389-80c7-79abf3be08f2"
      },
      "execution_count": 40,
      "outputs": [
        {
          "output_type": "display_data",
          "data": {
            "text/plain": [
              "<Figure size 640x480 with 1 Axes>"
            ],
            "image/png": "[encoded data removed]"
          },
          "metadata": {}
        },
        {
          "output_type": "display_data",
          "data": {
            "text/plain": [
              "<Figure size 640x480 with 1 Axes>"
            ],
            "image/png": "[encoded data removed]"
          },
          "metadata": {}
        },
        {
          "output_type": "display_data",
          "data": {
            "text/plain": [
              "<Figure size 640x480 with 1 Axes>"
            ],
            "image/png": "[encoded data removed]"
          },
          "metadata": {}
        },
        {
          "output_type": "display_data",
          "data": {
            "text/plain": [
              "<Figure size 640x480 with 1 Axes>"
            ],
            "image/png": "[encoded data removed]"
          },
          "metadata": {}
        },
        {
          "output_type": "display_data",
          "data": {
            "text/plain": [
              "<Figure size 640x480 with 1 Axes>"
            ],
            "image/png": "[encoded data removed]"
          },
          "metadata": {}
        }
      ]
    }
  ]
}